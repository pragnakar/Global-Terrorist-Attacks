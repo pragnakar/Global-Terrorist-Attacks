{
 "cells": [
  {
   "cell_type": "code",
   "execution_count": 1,
   "metadata": {
    "collapsed": true
   },
   "outputs": [],
   "source": [
    "# import block \n",
    "import pandas as pd \n",
    "import numpy as np \n",
    "import matplotlib.pyplot as plt\n",
    "from sklearn.metrics import confusion_matrix\n",
    "import itertools\n",
    "import os"
   ]
  },
  {
   "cell_type": "code",
   "execution_count": 2,
   "metadata": {},
   "outputs": [],
   "source": [
    "# reading the data \n",
    "data_set = pd.read_excel(\"gtd_70to94_0617dist.xlsx \")"
   ]
  },
  {
   "cell_type": "markdown",
   "metadata": {},
   "source": [
    "##Subseting the data by removing Unknows form target variable \n"
   ]
  },
  {
   "cell_type": "code",
   "execution_count": 3,
   "metadata": {},
   "outputs": [],
   "source": [
    "data_set = data_set[data_set.gname != 'Unknown' ] # removed unknows as that is the target variable"
   ]
  },
  {
   "cell_type": "markdown",
   "metadata": {},
   "source": [
    "## Checking dimension of the data set "
   ]
  },
  {
   "cell_type": "code",
   "execution_count": 4,
   "metadata": {},
   "outputs": [
    {
     "data": {
      "text/plain": [
       "(39945, 135)"
      ]
     },
     "execution_count": 4,
     "metadata": {},
     "output_type": "execute_result"
    }
   ],
   "source": [
    "data_set.shape"
   ]
  },
  {
   "cell_type": "code",
   "execution_count": 5,
   "metadata": {},
   "outputs": [
    {
     "data": {
      "text/plain": [
       "1978"
      ]
     },
     "execution_count": 5,
     "metadata": {},
     "output_type": "execute_result"
    }
   ],
   "source": [
    "# total number of gang names\n",
    "len(list(set(list(data_set.gname.values))))"
   ]
  },
  {
   "cell_type": "code",
   "execution_count": 6,
   "metadata": {},
   "outputs": [
    {
     "data": {
      "text/html": [
       "<div>\n",
       "<table border=\"1\" class=\"dataframe\">\n",
       "  <thead>\n",
       "    <tr style=\"text-align: right;\">\n",
       "      <th></th>\n",
       "      <th>eventid</th>\n",
       "      <th>iyear</th>\n",
       "      <th>imonth</th>\n",
       "      <th>iday</th>\n",
       "      <th>approxdate</th>\n",
       "      <th>extended</th>\n",
       "      <th>resolution</th>\n",
       "      <th>country</th>\n",
       "      <th>country_txt</th>\n",
       "      <th>region</th>\n",
       "      <th>...</th>\n",
       "      <th>addnotes</th>\n",
       "      <th>scite1</th>\n",
       "      <th>scite2</th>\n",
       "      <th>scite3</th>\n",
       "      <th>dbsource</th>\n",
       "      <th>INT_LOG</th>\n",
       "      <th>INT_IDEO</th>\n",
       "      <th>INT_MISC</th>\n",
       "      <th>INT_ANY</th>\n",
       "      <th>related</th>\n",
       "    </tr>\n",
       "  </thead>\n",
       "  <tbody>\n",
       "    <tr>\n",
       "      <th>0</th>\n",
       "      <td>197000000001</td>\n",
       "      <td>1970</td>\n",
       "      <td>7</td>\n",
       "      <td>2</td>\n",
       "      <td>NaN</td>\n",
       "      <td>0</td>\n",
       "      <td>NaN</td>\n",
       "      <td>58</td>\n",
       "      <td>Dominican Republic</td>\n",
       "      <td>2</td>\n",
       "      <td>...</td>\n",
       "      <td>NaN</td>\n",
       "      <td>NaN</td>\n",
       "      <td>NaN</td>\n",
       "      <td>NaN</td>\n",
       "      <td>PGIS</td>\n",
       "      <td>0</td>\n",
       "      <td>0</td>\n",
       "      <td>0</td>\n",
       "      <td>0</td>\n",
       "      <td>NaN</td>\n",
       "    </tr>\n",
       "    <tr>\n",
       "      <th>1</th>\n",
       "      <td>197000000002</td>\n",
       "      <td>1970</td>\n",
       "      <td>0</td>\n",
       "      <td>0</td>\n",
       "      <td>NaN</td>\n",
       "      <td>0</td>\n",
       "      <td>NaN</td>\n",
       "      <td>130</td>\n",
       "      <td>Mexico</td>\n",
       "      <td>1</td>\n",
       "      <td>...</td>\n",
       "      <td>NaN</td>\n",
       "      <td>NaN</td>\n",
       "      <td>NaN</td>\n",
       "      <td>NaN</td>\n",
       "      <td>PGIS</td>\n",
       "      <td>0</td>\n",
       "      <td>1</td>\n",
       "      <td>1</td>\n",
       "      <td>1</td>\n",
       "      <td>NaN</td>\n",
       "    </tr>\n",
       "    <tr>\n",
       "      <th>5</th>\n",
       "      <td>197001010002</td>\n",
       "      <td>1970</td>\n",
       "      <td>1</td>\n",
       "      <td>1</td>\n",
       "      <td>NaN</td>\n",
       "      <td>0</td>\n",
       "      <td>NaN</td>\n",
       "      <td>217</td>\n",
       "      <td>United States</td>\n",
       "      <td>1</td>\n",
       "      <td>...</td>\n",
       "      <td>The Cairo Chief of Police, William Petersen, r...</td>\n",
       "      <td>\"Police Chief Quits,\" Washington Post, January...</td>\n",
       "      <td>\"Cairo Police Chief Quits; Decries Local 'Mili...</td>\n",
       "      <td>Christopher Hewitt, \"Political Violence and Te...</td>\n",
       "      <td>Hewitt Project</td>\n",
       "      <td>-9</td>\n",
       "      <td>-9</td>\n",
       "      <td>0</td>\n",
       "      <td>-9</td>\n",
       "      <td>NaN</td>\n",
       "    </tr>\n",
       "    <tr>\n",
       "      <th>6</th>\n",
       "      <td>197001020001</td>\n",
       "      <td>1970</td>\n",
       "      <td>1</td>\n",
       "      <td>2</td>\n",
       "      <td>NaN</td>\n",
       "      <td>0</td>\n",
       "      <td>NaN</td>\n",
       "      <td>218</td>\n",
       "      <td>Uruguay</td>\n",
       "      <td>3</td>\n",
       "      <td>...</td>\n",
       "      <td>NaN</td>\n",
       "      <td>NaN</td>\n",
       "      <td>NaN</td>\n",
       "      <td>NaN</td>\n",
       "      <td>PGIS</td>\n",
       "      <td>0</td>\n",
       "      <td>0</td>\n",
       "      <td>0</td>\n",
       "      <td>0</td>\n",
       "      <td>NaN</td>\n",
       "    </tr>\n",
       "    <tr>\n",
       "      <th>8</th>\n",
       "      <td>197001020003</td>\n",
       "      <td>1970</td>\n",
       "      <td>1</td>\n",
       "      <td>2</td>\n",
       "      <td>NaN</td>\n",
       "      <td>0</td>\n",
       "      <td>NaN</td>\n",
       "      <td>217</td>\n",
       "      <td>United States</td>\n",
       "      <td>1</td>\n",
       "      <td>...</td>\n",
       "      <td>The New Years Gang issue a communiqué to a loc...</td>\n",
       "      <td>Tom Bates, \"Rads: The 1970 Bombing of the Army...</td>\n",
       "      <td>David Newman, Sandra Sutherland, and Jon Stewa...</td>\n",
       "      <td>The Wisconsin Cartographers' Guild, \"Wisconsin...</td>\n",
       "      <td>Hewitt Project</td>\n",
       "      <td>0</td>\n",
       "      <td>0</td>\n",
       "      <td>0</td>\n",
       "      <td>0</td>\n",
       "      <td>NaN</td>\n",
       "    </tr>\n",
       "  </tbody>\n",
       "</table>\n",
       "<p>5 rows × 135 columns</p>\n",
       "</div>"
      ],
      "text/plain": [
       "<div>\n",
       "<table border=\"1\" class=\"dataframe\">\n",
       "  <thead>\n",
       "    <tr style=\"text-align: right;\">\n",
       "      <th></th>\n",
       "      <th>eventid</th>\n",
       "      <th>iyear</th>\n",
       "      <th>imonth</th>\n",
       "      <th>iday</th>\n",
       "      <th>approxdate</th>\n",
       "      <th>extended</th>\n",
       "      <th>resolution</th>\n",
       "      <th>country</th>\n",
       "      <th>country_txt</th>\n",
       "      <th>region</th>\n",
       "      <th>...</th>\n",
       "      <th>addnotes</th>\n",
       "      <th>scite1</th>\n",
       "      <th>scite2</th>\n",
       "      <th>scite3</th>\n",
       "      <th>dbsource</th>\n",
       "      <th>INT_LOG</th>\n",
       "      <th>INT_IDEO</th>\n",
       "      <th>INT_MISC</th>\n",
       "      <th>INT_ANY</th>\n",
       "      <th>related</th>\n",
       "    </tr>\n",
       "  </thead>\n",
       "  <tbody>\n",
       "    <tr>\n",
       "      <th>0</th>\n",
       "      <td>197000000001</td>\n",
       "      <td>1970</td>\n",
       "      <td>7</td>\n",
       "      <td>2</td>\n",
       "      <td>NaN</td>\n",
       "      <td>0</td>\n",
       "      <td>NaN</td>\n",
       "      <td>58</td>\n",
       "      <td>Dominican Republic</td>\n",
       "      <td>2</td>\n",
       "      <td>...</td>\n",
       "      <td>NaN</td>\n",
       "      <td>NaN</td>\n",
       "      <td>NaN</td>\n",
       "      <td>NaN</td>\n",
       "      <td>PGIS</td>\n",
       "      <td>0</td>\n",
       "      <td>0</td>\n",
       "      <td>0</td>\n",
       "      <td>0</td>\n",
       "      <td>NaN</td>\n",
       "    </tr>\n",
       "    <tr>\n",
       "      <th>1</th>\n",
       "      <td>197000000002</td>\n",
       "      <td>1970</td>\n",
       "      <td>0</td>\n",
       "      <td>0</td>\n",
       "      <td>NaN</td>\n",
       "      <td>0</td>\n",
       "      <td>NaN</td>\n",
       "      <td>130</td>\n",
       "      <td>Mexico</td>\n",
       "      <td>1</td>\n",
       "      <td>...</td>\n",
       "      <td>NaN</td>\n",
       "      <td>NaN</td>\n",
       "      <td>NaN</td>\n",
       "      <td>NaN</td>\n",
       "      <td>PGIS</td>\n",
       "      <td>0</td>\n",
       "      <td>1</td>\n",
       "      <td>1</td>\n",
       "      <td>1</td>\n",
       "      <td>NaN</td>\n",
       "    </tr>\n",
       "    <tr>\n",
       "      <th>5</th>\n",
       "      <td>197001010002</td>\n",
       "      <td>1970</td>\n",
       "      <td>1</td>\n",
       "      <td>1</td>\n",
       "      <td>NaN</td>\n",
       "      <td>0</td>\n",
       "      <td>NaN</td>\n",
       "      <td>217</td>\n",
       "      <td>United States</td>\n",
       "      <td>1</td>\n",
       "      <td>...</td>\n",
       "      <td>The Cairo Chief of Police, William Petersen, r...</td>\n",
       "      <td>\"Police Chief Quits,\" Washington Post, January...</td>\n",
       "      <td>\"Cairo Police Chief Quits; Decries Local 'Mili...</td>\n",
       "      <td>Christopher Hewitt, \"Political Violence and Te...</td>\n",
       "      <td>Hewitt Project</td>\n",
       "      <td>-9</td>\n",
       "      <td>-9</td>\n",
       "      <td>0</td>\n",
       "      <td>-9</td>\n",
       "      <td>NaN</td>\n",
       "    </tr>\n",
       "    <tr>\n",
       "      <th>6</th>\n",
       "      <td>197001020001</td>\n",
       "      <td>1970</td>\n",
       "      <td>1</td>\n",
       "      <td>2</td>\n",
       "      <td>NaN</td>\n",
       "      <td>0</td>\n",
       "      <td>NaN</td>\n",
       "      <td>218</td>\n",
       "      <td>Uruguay</td>\n",
       "      <td>3</td>\n",
       "      <td>...</td>\n",
       "      <td>NaN</td>\n",
       "      <td>NaN</td>\n",
       "      <td>NaN</td>\n",
       "      <td>NaN</td>\n",
       "      <td>PGIS</td>\n",
       "      <td>0</td>\n",
       "      <td>0</td>\n",
       "      <td>0</td>\n",
       "      <td>0</td>\n",
       "      <td>NaN</td>\n",
       "    </tr>\n",
       "    <tr>\n",
       "      <th>8</th>\n",
       "      <td>197001020003</td>\n",
       "      <td>1970</td>\n",
       "      <td>1</td>\n",
       "      <td>2</td>\n",
       "      <td>NaN</td>\n",
       "      <td>0</td>\n",
       "      <td>NaN</td>\n",
       "      <td>217</td>\n",
       "      <td>United States</td>\n",
       "      <td>1</td>\n",
       "      <td>...</td>\n",
       "      <td>The New Years Gang issue a communiqué to a loc...</td>\n",
       "      <td>Tom Bates, \"Rads: The 1970 Bombing of the Army...</td>\n",
       "      <td>David Newman, Sandra Sutherland, and Jon Stewa...</td>\n",
       "      <td>The Wisconsin Cartographers' Guild, \"Wisconsin...</td>\n",
       "      <td>Hewitt Project</td>\n",
       "      <td>0</td>\n",
       "      <td>0</td>\n",
       "      <td>0</td>\n",
       "      <td>0</td>\n",
       "      <td>NaN</td>\n",
       "    </tr>\n",
       "  </tbody>\n",
       "</table>\n",
       "<p>5 rows × 135 columns</p>\n",
       "</div>"
      ]
     },
     "execution_count": 6,
     "metadata": {},
     "output_type": "execute_result"
    }
   ],
   "source": [
    "data_set.head()"
   ]
  },
  {
   "cell_type": "code",
   "execution_count": 6,
   "metadata": {},
   "outputs": [
    {
     "data": {
      "text/plain": [
       "Index(['eventid', 'iyear', 'imonth', 'iday', 'approxdate', 'extended',\n       'resolution', 'country', 'country_txt', 'region',\n       ...\n       'addnotes', 'scite1', 'scite2', 'scite3', 'dbsource', 'INT_LOG',\n       'INT_IDEO', 'INT_MISC', 'INT_ANY', 'related'],\n      dtype='object', length=135)"
      ]
     },
     "execution_count": 6,
     "metadata": {},
     "output_type": "execute_result"
    }
   ],
   "source": [
    "# column names\n",
    "data_set.columns"
   ]
  },
  {
   "cell_type": "markdown",
   "metadata": {},
   "source": [
    "## selecting the features "
   ]
  },
  {
   "cell_type": "code",
   "execution_count": 7,
   "metadata": {},
   "outputs": [
    {
     "data": {
      "text/plain": [
       "71"
      ]
     },
     "execution_count": 7,
     "metadata": {},
     "output_type": "execute_result"
    }
   ],
   "source": [
    "# gives  column location for given column name \n",
    "\n",
    "col_name = 'claimed'\n",
    "data_set.columns.get_loc(col_name)"
   ]
  },
  {
   "cell_type": "code",
   "execution_count": 96,
   "metadata": {},
   "outputs": [],
   "source": [
    "# data subset \n",
    "data_set_sub = data_set.iloc[:,  [1, 34, 7, 40, 9, 71, 15, 22, 25, 58, 28] ]"
   ]
  },
  {
   "cell_type": "code",
   "execution_count": 97,
   "metadata": {},
   "outputs": [
    {
     "data": {
      "text/plain": [
       "Index(['iyear', 'targtype1', 'country', 'natlty1', 'region', 'claimed',\n       'specificity', 'doubtterr', 'multiple', 'gname', 'attacktype1'],\n      dtype='object')"
      ]
     },
     "execution_count": 97,
     "metadata": {},
     "output_type": "execute_result"
    }
   ],
   "source": [
    "# columns selected for the sub data set\n",
    "data_set_sub.columns"
   ]
  },
  {
   "cell_type": "code",
   "execution_count": 98,
   "metadata": {},
   "outputs": [
    {
     "data": {
      "text/html": [
       "<div>\n",
       "<table border=\"1\" class=\"dataframe\">\n",
       "  <thead>\n",
       "    <tr style=\"text-align: right;\">\n",
       "      <th></th>\n",
       "      <th>iyear</th>\n",
       "      <th>targtype1</th>\n",
       "      <th>country</th>\n",
       "      <th>natlty1</th>\n",
       "      <th>region</th>\n",
       "      <th>claimed</th>\n",
       "      <th>specificity</th>\n",
       "      <th>doubtterr</th>\n",
       "      <th>multiple</th>\n",
       "      <th>gname</th>\n",
       "      <th>attacktype1</th>\n",
       "    </tr>\n",
       "  </thead>\n",
       "  <tbody>\n",
       "    <tr>\n",
       "      <th>0</th>\n",
       "      <td>1970</td>\n",
       "      <td>14</td>\n",
       "      <td>58</td>\n",
       "      <td>58.0</td>\n",
       "      <td>2</td>\n",
       "      <td>NaN</td>\n",
       "      <td>1</td>\n",
       "      <td>0</td>\n",
       "      <td>0</td>\n",
       "      <td>MANO-D</td>\n",
       "      <td>1</td>\n",
       "    </tr>\n",
       "    <tr>\n",
       "      <th>1</th>\n",
       "      <td>1970</td>\n",
       "      <td>7</td>\n",
       "      <td>130</td>\n",
       "      <td>21.0</td>\n",
       "      <td>1</td>\n",
       "      <td>NaN</td>\n",
       "      <td>1</td>\n",
       "      <td>0</td>\n",
       "      <td>0</td>\n",
       "      <td>23rd of September Communist League</td>\n",
       "      <td>6</td>\n",
       "    </tr>\n",
       "    <tr>\n",
       "      <th>5</th>\n",
       "      <td>1970</td>\n",
       "      <td>3</td>\n",
       "      <td>217</td>\n",
       "      <td>217.0</td>\n",
       "      <td>1</td>\n",
       "      <td>0.0</td>\n",
       "      <td>1</td>\n",
       "      <td>0</td>\n",
       "      <td>0</td>\n",
       "      <td>Black Nationalists</td>\n",
       "      <td>2</td>\n",
       "    </tr>\n",
       "    <tr>\n",
       "      <th>6</th>\n",
       "      <td>1970</td>\n",
       "      <td>3</td>\n",
       "      <td>218</td>\n",
       "      <td>218.0</td>\n",
       "      <td>3</td>\n",
       "      <td>NaN</td>\n",
       "      <td>1</td>\n",
       "      <td>0</td>\n",
       "      <td>0</td>\n",
       "      <td>Tupamaros (Uruguay)</td>\n",
       "      <td>1</td>\n",
       "    </tr>\n",
       "    <tr>\n",
       "      <th>8</th>\n",
       "      <td>1970</td>\n",
       "      <td>4</td>\n",
       "      <td>217</td>\n",
       "      <td>217.0</td>\n",
       "      <td>1</td>\n",
       "      <td>1.0</td>\n",
       "      <td>1</td>\n",
       "      <td>0</td>\n",
       "      <td>0</td>\n",
       "      <td>New Year's Gang</td>\n",
       "      <td>7</td>\n",
       "    </tr>\n",
       "  </tbody>\n",
       "</table>\n",
       "</div>"
      ],
      "text/plain": [
       "<div>\n",
       "<table border=\"1\" class=\"dataframe\">\n",
       "  <thead>\n",
       "    <tr style=\"text-align: right;\">\n",
       "      <th></th>\n",
       "      <th>iyear</th>\n",
       "      <th>targtype1</th>\n",
       "      <th>country</th>\n",
       "      <th>natlty1</th>\n",
       "      <th>region</th>\n",
       "      <th>claimed</th>\n",
       "      <th>specificity</th>\n",
       "      <th>doubtterr</th>\n",
       "      <th>multiple</th>\n",
       "      <th>gname</th>\n",
       "      <th>attacktype1</th>\n",
       "    </tr>\n",
       "  </thead>\n",
       "  <tbody>\n",
       "    <tr>\n",
       "      <th>0</th>\n",
       "      <td>1970</td>\n",
       "      <td>14</td>\n",
       "      <td>58</td>\n",
       "      <td>58.0</td>\n",
       "      <td>2</td>\n",
       "      <td>NaN</td>\n",
       "      <td>1</td>\n",
       "      <td>0</td>\n",
       "      <td>0</td>\n",
       "      <td>MANO-D</td>\n",
       "      <td>1</td>\n",
       "    </tr>\n",
       "    <tr>\n",
       "      <th>1</th>\n",
       "      <td>1970</td>\n",
       "      <td>7</td>\n",
       "      <td>130</td>\n",
       "      <td>21.0</td>\n",
       "      <td>1</td>\n",
       "      <td>NaN</td>\n",
       "      <td>1</td>\n",
       "      <td>0</td>\n",
       "      <td>0</td>\n",
       "      <td>23rd of September Communist League</td>\n",
       "      <td>6</td>\n",
       "    </tr>\n",
       "    <tr>\n",
       "      <th>5</th>\n",
       "      <td>1970</td>\n",
       "      <td>3</td>\n",
       "      <td>217</td>\n",
       "      <td>217.0</td>\n",
       "      <td>1</td>\n",
       "      <td>0.0</td>\n",
       "      <td>1</td>\n",
       "      <td>0</td>\n",
       "      <td>0</td>\n",
       "      <td>Black Nationalists</td>\n",
       "      <td>2</td>\n",
       "    </tr>\n",
       "    <tr>\n",
       "      <th>6</th>\n",
       "      <td>1970</td>\n",
       "      <td>3</td>\n",
       "      <td>218</td>\n",
       "      <td>218.0</td>\n",
       "      <td>3</td>\n",
       "      <td>NaN</td>\n",
       "      <td>1</td>\n",
       "      <td>0</td>\n",
       "      <td>0</td>\n",
       "      <td>Tupamaros (Uruguay)</td>\n",
       "      <td>1</td>\n",
       "    </tr>\n",
       "    <tr>\n",
       "      <th>8</th>\n",
       "      <td>1970</td>\n",
       "      <td>4</td>\n",
       "      <td>217</td>\n",
       "      <td>217.0</td>\n",
       "      <td>1</td>\n",
       "      <td>1.0</td>\n",
       "      <td>1</td>\n",
       "      <td>0</td>\n",
       "      <td>0</td>\n",
       "      <td>New Year's Gang</td>\n",
       "      <td>7</td>\n",
       "    </tr>\n",
       "  </tbody>\n",
       "</table>\n",
       "</div>"
      ]
     },
     "execution_count": 98,
     "metadata": {},
     "output_type": "execute_result"
    }
   ],
   "source": [
    "data_set_sub.head()"
   ]
  },
  {
   "cell_type": "markdown",
   "metadata": {},
   "source": [
    "##spliting the data to test and train "
   ]
  },
  {
   "cell_type": "code",
   "execution_count": 99,
   "metadata": {},
   "outputs": [],
   "source": [
    "# spliting the data \n",
    "from sklearn.model_selection import train_test_split\n",
    "data_set_sub = data_set_sub.fillna(-20)\n",
    "train, test = train_test_split(data_set_sub, test_size = 0.01)"
   ]
  },
  {
   "cell_type": "code",
   "execution_count": 100,
   "metadata": {},
   "outputs": [],
   "source": [
    "train_x = train.iloc[ :,:].copy() \n",
    "test_x = test.iloc [ :,:].copy()\n",
    "train_x.pop('gname')\n",
    "test_x.pop('gname')\n",
    "train_x =  train_x.astype(int)\n",
    "test_x = test_x.astype(int)\n",
    "train_y = train.gname.values\n",
    "test_y = test.gname.values"
   ]
  },
  {
   "cell_type": "code",
   "execution_count": 101,
   "metadata": {},
   "outputs": [
    {
     "data": {
      "text/html": [
       "<div>\n",
       "<table border=\"1\" class=\"dataframe\">\n",
       "  <thead>\n",
       "    <tr style=\"text-align: right;\">\n",
       "      <th></th>\n",
       "      <th>iyear</th>\n",
       "      <th>targtype1</th>\n",
       "      <th>country</th>\n",
       "      <th>natlty1</th>\n",
       "      <th>region</th>\n",
       "      <th>claimed</th>\n",
       "      <th>specificity</th>\n",
       "      <th>doubtterr</th>\n",
       "      <th>multiple</th>\n",
       "      <th>attacktype1</th>\n",
       "    </tr>\n",
       "  </thead>\n",
       "  <tbody>\n",
       "    <tr>\n",
       "      <th>35818</th>\n",
       "      <td>1988</td>\n",
       "      <td>3</td>\n",
       "      <td>186</td>\n",
       "      <td>186</td>\n",
       "      <td>6</td>\n",
       "      <td>-20</td>\n",
       "      <td>1</td>\n",
       "      <td>0</td>\n",
       "      <td>0</td>\n",
       "      <td>2</td>\n",
       "    </tr>\n",
       "    <tr>\n",
       "      <th>46539</th>\n",
       "      <td>1991</td>\n",
       "      <td>14</td>\n",
       "      <td>45</td>\n",
       "      <td>45</td>\n",
       "      <td>3</td>\n",
       "      <td>-20</td>\n",
       "      <td>5</td>\n",
       "      <td>0</td>\n",
       "      <td>0</td>\n",
       "      <td>2</td>\n",
       "    </tr>\n",
       "    <tr>\n",
       "      <th>43883</th>\n",
       "      <td>1990</td>\n",
       "      <td>2</td>\n",
       "      <td>185</td>\n",
       "      <td>69</td>\n",
       "      <td>8</td>\n",
       "      <td>-20</td>\n",
       "      <td>1</td>\n",
       "      <td>0</td>\n",
       "      <td>0</td>\n",
       "      <td>3</td>\n",
       "    </tr>\n",
       "    <tr>\n",
       "      <th>39136</th>\n",
       "      <td>1989</td>\n",
       "      <td>2</td>\n",
       "      <td>603</td>\n",
       "      <td>233</td>\n",
       "      <td>8</td>\n",
       "      <td>-20</td>\n",
       "      <td>1</td>\n",
       "      <td>0</td>\n",
       "      <td>0</td>\n",
       "      <td>3</td>\n",
       "    </tr>\n",
       "    <tr>\n",
       "      <th>13096</th>\n",
       "      <td>1981</td>\n",
       "      <td>14</td>\n",
       "      <td>217</td>\n",
       "      <td>217</td>\n",
       "      <td>1</td>\n",
       "      <td>-20</td>\n",
       "      <td>1</td>\n",
       "      <td>0</td>\n",
       "      <td>0</td>\n",
       "      <td>6</td>\n",
       "    </tr>\n",
       "  </tbody>\n",
       "</table>\n",
       "</div>"
      ],
      "text/plain": [
       "<div>\n",
       "<table border=\"1\" class=\"dataframe\">\n",
       "  <thead>\n",
       "    <tr style=\"text-align: right;\">\n",
       "      <th></th>\n",
       "      <th>iyear</th>\n",
       "      <th>targtype1</th>\n",
       "      <th>country</th>\n",
       "      <th>natlty1</th>\n",
       "      <th>region</th>\n",
       "      <th>claimed</th>\n",
       "      <th>specificity</th>\n",
       "      <th>doubtterr</th>\n",
       "      <th>multiple</th>\n",
       "      <th>attacktype1</th>\n",
       "    </tr>\n",
       "  </thead>\n",
       "  <tbody>\n",
       "    <tr>\n",
       "      <th>35818</th>\n",
       "      <td>1988</td>\n",
       "      <td>3</td>\n",
       "      <td>186</td>\n",
       "      <td>186</td>\n",
       "      <td>6</td>\n",
       "      <td>-20</td>\n",
       "      <td>1</td>\n",
       "      <td>0</td>\n",
       "      <td>0</td>\n",
       "      <td>2</td>\n",
       "    </tr>\n",
       "    <tr>\n",
       "      <th>46539</th>\n",
       "      <td>1991</td>\n",
       "      <td>14</td>\n",
       "      <td>45</td>\n",
       "      <td>45</td>\n",
       "      <td>3</td>\n",
       "      <td>-20</td>\n",
       "      <td>5</td>\n",
       "      <td>0</td>\n",
       "      <td>0</td>\n",
       "      <td>2</td>\n",
       "    </tr>\n",
       "    <tr>\n",
       "      <th>43883</th>\n",
       "      <td>1990</td>\n",
       "      <td>2</td>\n",
       "      <td>185</td>\n",
       "      <td>69</td>\n",
       "      <td>8</td>\n",
       "      <td>-20</td>\n",
       "      <td>1</td>\n",
       "      <td>0</td>\n",
       "      <td>0</td>\n",
       "      <td>3</td>\n",
       "    </tr>\n",
       "    <tr>\n",
       "      <th>39136</th>\n",
       "      <td>1989</td>\n",
       "      <td>2</td>\n",
       "      <td>603</td>\n",
       "      <td>233</td>\n",
       "      <td>8</td>\n",
       "      <td>-20</td>\n",
       "      <td>1</td>\n",
       "      <td>0</td>\n",
       "      <td>0</td>\n",
       "      <td>3</td>\n",
       "    </tr>\n",
       "    <tr>\n",
       "      <th>13096</th>\n",
       "      <td>1981</td>\n",
       "      <td>14</td>\n",
       "      <td>217</td>\n",
       "      <td>217</td>\n",
       "      <td>1</td>\n",
       "      <td>-20</td>\n",
       "      <td>1</td>\n",
       "      <td>0</td>\n",
       "      <td>0</td>\n",
       "      <td>6</td>\n",
       "    </tr>\n",
       "  </tbody>\n",
       "</table>\n",
       "</div>"
      ]
     },
     "execution_count": 101,
     "metadata": {},
     "output_type": "execute_result"
    }
   ],
   "source": [
    "train_x.head()"
   ]
  },
  {
   "cell_type": "code",
   "execution_count": 102,
   "metadata": {},
   "outputs": [
    {
     "data": {
      "text/plain": [
       "array([\"People's Liberation Front (JVP)\",\n       'Revolutionary Armed Forces of Colombia (FARC)', 'Terra Lliure',\n       ..., 'Shining Path (SL)',\n       'Corsican National Liberation Front (FLNC)',\n       'April 6th Liberation Movement'], dtype=object)"
      ]
     },
     "execution_count": 102,
     "metadata": {},
     "output_type": "execute_result"
    }
   ],
   "source": [
    "train_y"
   ]
  },
  {
   "cell_type": "markdown",
   "metadata": {},
   "source": [
    "## creation of model \n"
   ]
  },
  {
   "cell_type": "code",
   "execution_count": 103,
   "metadata": {
    "collapsed": true
   },
   "outputs": [
    {
     "data": {
      "text/plain": [
       "RandomForestClassifier(bootstrap=True, class_weight=None, criterion='gini',\n            max_depth=None, max_features='auto', max_leaf_nodes=None,\n            min_impurity_split=1e-07, min_samples_leaf=1,\n            min_samples_split=2, min_weight_fraction_leaf=0.0,\n            n_estimators=10, n_jobs=1, oob_score=False, random_state=None,\n            verbose=0, warm_start=False)"
      ]
     },
     "execution_count": 103,
     "metadata": {},
     "output_type": "execute_result"
    }
   ],
   "source": [
    "#Import Library\n",
    "from sklearn.ensemble import RandomForestClassifier #use RandomForestRegressor for regression problem\n",
    "#Assumed you have, X (predictor) and Y (target) for training data set and x_test(predictor) of test_dataset\n",
    "# Create Random Forest object\n",
    "model= RandomForestClassifier(n_estimators=10)\n",
    "model.fit(train_x,train_y)"
   ]
  },
  {
   "cell_type": "code",
   "execution_count": 104,
   "metadata": {},
   "outputs": [
    {
     "data": {
      "text/plain": [
       "0.87004678214692122"
      ]
     },
     "execution_count": 104,
     "metadata": {},
     "output_type": "execute_result"
    }
   ],
   "source": [
    "# model score\n",
    "model.score(train_x, train_y)"
   ]
  },
  {
   "cell_type": "code",
   "execution_count": 106,
   "metadata": {},
   "outputs": [],
   "source": [
    "predicted= model.predict(test_x)"
   ]
  },
  {
   "cell_type": "code",
   "execution_count": 107,
   "metadata": {},
   "outputs": [
    {
     "name": "stdout",
     "output_type": "stream",
     "text": [
      " predicted accuracy % :  69.25\n"
     ]
    }
   ],
   "source": [
    "#accuracy \n",
    "count=0\n",
    "for i in range(0, len(test_y)):\n",
    "    if (predicted[i] == test_y[i] ):\n",
    "        count +=1\n",
    "\n",
    "print(\" predicted accuracy % : \", round(float(count)/len(test_y) *100,2))"
   ]
  },
  {
   "cell_type": "markdown",
   "metadata": {},
   "source": [
    "# My prediction accuracy hovers around 69 to 71 %. I will try to imporve the prediction model in future.  "
   ]
  },
  {
   "cell_type": "markdown",
   "metadata": {},
   "source": [
    "## Step wise elimination method, it used to tell which features will give us the best prediction model "
   ]
  },
  {
   "cell_type": "code",
   "execution_count": 27,
   "metadata": {},
   "outputs": [],
   "source": [
    "def feature_selction( data_set,columns):\n",
    "    return data_set.iloc[:, columns ]"
   ]
  },
  {
   "cell_type": "code",
   "execution_count": 28,
   "metadata": {},
   "outputs": [],
   "source": [
    "def split_data(data_set_sub,size):\n",
    "    from sklearn.model_selection import train_test_split\n",
    "    data_set_sub = data_set_sub.fillna(-20)\n",
    "    train, test = train_test_split(data_set_sub, test_size = size)\n",
    "    train_x = train.iloc[ :,:].copy() \n",
    "    test_x = test.iloc [ :,:].copy()\n",
    "    train_x.pop('gname')\n",
    "    test_x.pop('gname')\n",
    "    train_x =  train_x.astype(int)\n",
    "    test_x = test_x.astype(int)\n",
    "    train_y = train.gname.values\n",
    "    test_y = test.gname.values\n",
    "    return train_x,train_y,test_x,test_y"
   ]
  },
  {
   "cell_type": "code",
   "execution_count": 29,
   "metadata": {},
   "outputs": [],
   "source": [
    "def model_creation(train_x, train_y,estimatior_num):\n",
    "    from sklearn.ensemble import RandomForestClassifier \n",
    "    model= RandomForestClassifier(n_estimators= estimatior_num)\n",
    "    return model.fit(train_x,train_y)"
   ]
  },
  {
   "cell_type": "code",
   "execution_count": 30,
   "metadata": {},
   "outputs": [],
   "source": [
    "def predict(test_x,model):\n",
    "    return model.predict(test_x)\n",
    "def model_score(train_x,train_y,model):\n",
    "    return model.score(train_x, train_y)\n",
    "def accuracy(predicted, test_y):\n",
    "    count=0\n",
    "    for i in range(0, len(test_y)):\n",
    "        if (predicted[i] == test_y[i] ):\n",
    "            count +=1\n",
    "    return round(float(count)/len(test_y) *100,2)"
   ]
  },
  {
   "cell_type": "code",
   "execution_count": 94,
   "metadata": {},
   "outputs": [],
   "source": [
    "def step_wise_elimination( data_set, input,data_split_size):\n",
    "    import gc\n",
    "    import time\n",
    "    accuray_val=0\n",
    "    columns = []\n",
    "    model_score_best=int()\n",
    "    for i in input:\n",
    "        columns.append(58)\n",
    "        columns.append(i)\n",
    "        columns = list(set(columns))\n",
    "        data_set_sub = feature_selction( data_set,columns)\n",
    "        train_x,train_y,test_x,test_y = split_data(data_set_sub,data_split_size)\n",
    "        try:\n",
    "            model = model_creation(train_x, train_y,10)\n",
    "            model_score_output = model.score(train_x, train_y)\n",
    "            predicted = predict(test_x,model)\n",
    "        except ValueError:\n",
    "            print(test_x.columns)\n",
    "            columns.remove(i)\n",
    "            print(\"value error\\n#####\")\n",
    "        accuracy_output  = accuracy(predicted, test_y)\n",
    "        print(i,' row added) columns: ',columns,' model_score: ', model_score_output, ' accuracy: ', accuracy_output )\n",
    "        if accuracy_output >= accuray_val:\n",
    "            store_col = list(set(columns))\n",
    "            accuray_val = accuracy_output\n",
    "            print('best model is obtained by using columns: ', store_col)\n",
    "        else:\n",
    "            if columns.__contains__(i):\n",
    "                columns.remove(i)\n",
    "        if model_score_output> model_score_best:\n",
    "            print(\"## above model is the best fit model so far ## \")\n",
    "            model_score_best = model_score_output\n",
    "    return store_col"
   ]
  },
  {
   "cell_type": "code",
   "execution_count": 95,
   "metadata": {
    "collapsed": false
   },
   "outputs": [
    {
     "name": "stdout",
     "output_type": "stream",
     "text": [
      "1  row added) columns:  [1, 58]  model_score:  0.159443671766  accuracy:  14.42\nbest model is obtained by using columns:  [1, 58]\n## above model is the best fit model so far ## \n"
     ]
    },
    {
     "name": "stdout",
     "output_type": "stream",
     "text": [
      "7  row added) columns:  [1, 58, 7]  model_score:  0.672712100139  accuracy:  63.68\nbest model is obtained by using columns:  [1, 58, 7]\n## above model is the best fit model so far ## \n"
     ]
    },
    {
     "name": "stdout",
     "output_type": "stream",
     "text": [
      "9  row added) columns:  [1, 58, 9, 7]  model_score:  0.670681502086  accuracy:  65.91\nbest model is obtained by using columns:  [1, 58, 9, 7]\n"
     ]
    },
    {
     "name": "stdout",
     "output_type": "stream",
     "text": [
      "15  row added) columns:  [1, 7, 9, 15, 58]  model_score:  0.686258692629  accuracy:  66.18\nbest model is obtained by using columns:  [1, 7, 9, 15, 58]\n## above model is the best fit model so far ## \n"
     ]
    },
    {
     "name": "stdout",
     "output_type": "stream",
     "text": [
      "16  row added) columns:  [1, 7, 9, 15, 16, 58]  model_score:  0.691043115438  accuracy:  64.36\n## above model is the best fit model so far ## \n"
     ]
    },
    {
     "name": "stdout",
     "output_type": "stream",
     "text": [
      "19  row added) columns:  [1, 7, 9, 15, 19, 58]  model_score:  0.688456189152  accuracy:  65.48\n"
     ]
    },
    {
     "name": "stdout",
     "output_type": "stream",
     "text": [
      "20  row added) columns:  [1, 7, 9, 15, 20, 58]  model_score:  0.691627260083  accuracy:  64.41\n## above model is the best fit model so far ## \n"
     ]
    },
    {
     "name": "stdout",
     "output_type": "stream",
     "text": [
      "21  row added) columns:  [1, 7, 9, 15, 21, 58]  model_score:  0.696022253129  accuracy:  65.51\n## above model is the best fit model so far ## \n"
     ]
    },
    {
     "name": "stdout",
     "output_type": "stream",
     "text": [
      "22  row added) columns:  [1, 7, 9, 15, 22, 58]  model_score:  0.718720445063  accuracy:  66.26\nbest model is obtained by using columns:  [1, 7, 9, 15, 22, 58]\n## above model is the best fit model so far ## \n"
     ]
    },
    {
     "name": "stdout",
     "output_type": "stream",
     "text": [
      "25  row added) columns:  [1, 7, 9, 15, 22, 25, 58]  model_score:  0.727872044506  accuracy:  67.51\nbest model is obtained by using columns:  [1, 7, 9, 15, 22, 25, 58]\n## above model is the best fit model so far ## \n"
     ]
    },
    {
     "name": "stdout",
     "output_type": "stream",
     "text": [
      "26  row added) columns:  [1, 26, 7, 9, 15, 22, 25, 58]  model_score:  0.735799721836  accuracy:  66.71\n## above model is the best fit model so far ## \n"
     ]
    },
    {
     "name": "stdout",
     "output_type": "stream",
     "text": [
      "27  row added) columns:  [1, 7, 9, 15, 22, 25, 58, 27]  model_score:  0.727983310153  accuracy:  67.13\n"
     ]
    },
    {
     "name": "stdout",
     "output_type": "stream",
     "text": [
      "28  row added) columns:  [1, 7, 9, 15, 22, 25, 58, 28]  model_score:  0.782559109875  accuracy:  68.94\nbest model is obtained by using columns:  [1, 7, 9, 15, 22, 25, 58, 28]\n## above model is the best fit model so far ## \n"
     ]
    },
    {
     "name": "stdout",
     "output_type": "stream",
     "text": [
      "34  row added) columns:  [1, 34, 7, 9, 15, 22, 25, 58, 28]  model_score:  0.854436717663  accuracy:  69.19\nbest model is obtained by using columns:  [1, 34, 7, 9, 15, 22, 25, 58, 28]\n## above model is the best fit model so far ## \n"
     ]
    },
    {
     "name": "stdout",
     "output_type": "stream",
     "text": [
      "40  row added) columns:  [1, 34, 7, 40, 9, 15, 22, 25, 58, 28]  model_score:  0.869568845619  accuracy:  69.26\nbest model is obtained by using columns:  [1, 34, 7, 40, 9, 15, 22, 25, 58, 28]\n## above model is the best fit model so far ## \n"
     ]
    },
    {
     "name": "stdout",
     "output_type": "stream",
     "text": [
      "58  row added) columns:  [1, 34, 7, 40, 9, 15, 22, 25, 58, 28]  model_score:  0.869652294854  accuracy:  70.79\nbest model is obtained by using columns:  [1, 34, 7, 40, 9, 15, 22, 25, 58, 28]\n## above model is the best fit model so far ## \n"
     ]
    },
    {
     "name": "stdout",
     "output_type": "stream",
     "text": [
      "65  row added) columns:  [1, 34, 65, 7, 40, 9, 15, 22, 25, 58, 28]  model_score:  0.878692628651  accuracy:  69.71\n## above model is the best fit model so far ## \n"
     ]
    },
    {
     "name": "stdout",
     "output_type": "stream",
     "text": [
      "68  row added) columns:  [1, 34, 68, 7, 40, 9, 15, 22, 25, 58, 28]  model_score:  0.870264255911  accuracy:  70.26\n"
     ]
    },
    {
     "name": "stdout",
     "output_type": "stream",
     "text": [
      "71  row added) columns:  [1, 34, 7, 40, 9, 71, 15, 22, 25, 58, 28]  model_score:  0.872350486787  accuracy:  71.69\nbest model is obtained by using columns:  [1, 34, 7, 40, 9, 71, 15, 22, 25, 58, 28]\n"
     ]
    },
    {
     "name": "stdout",
     "output_type": "stream",
     "text": [
      "81  row added) columns:  [1, 34, 7, 40, 9, 71, 15, 81, 22, 25, 58, 28]  model_score:  0.882280945758  accuracy:  70.14\n## above model is the best fit model so far ## \n"
     ]
    },
    {
     "name": "stdout",
     "output_type": "stream",
     "text": [
      "104  row added) columns:  [1, 34, 7, 40, 9, 71, 104, 15, 22, 25, 58, 28]  model_score:  0.878386648122  accuracy:  70.26\n"
     ]
    },
    {
     "name": "stdout",
     "output_type": "stream",
     "text": [
      "116  row added) columns:  [1, 34, 7, 40, 9, 71, 15, 116, 22, 25, 58, 28]  model_score:  0.873602225313  accuracy:  70.31\n###########\nbest model based on accuracy is  is obtained by using columns:  [1, 34, 7, 40, 9, 71, 15, 22, 25, 58, 28]\n"
     ]
    }
   ],
   "source": [
    "input =[1, 7, 9,15,16,19,20,21,22, 25, 26, 27, 28, 34, 40, 58,65,68,71, 81,104,116]\n",
    "input.sort()\n",
    "col_best = step_wise_elimination( data_set, input,0.1)\n",
    "\n",
    "print('###########')\n",
    "\n",
    "print('best model based on accuracy is  is obtained by using columns: ', col_best)"
   ]
  },
  {
   "cell_type": "markdown",
   "metadata": {},
   "source": [
    "## Step wise elimination to find the best model using various  test data set sizes [0.05, 0.1, 0.15, 0.2 ]"
   ]
  },
  {
   "cell_type": "code",
   "execution_count": 15,
   "metadata": {},
   "outputs": [
    {
     "name": "stdout",
     "output_type": "stream",
     "text": [
      "\n###############################################\n\n\n\n\ntest data split size 0.05\n"
     ]
    },
    {
     "name": "stdout",
     "output_type": "stream",
     "text": [
      "1  row added) columns:  [1, 58]  model_score:  0.157535510053  accuracy:  16.52\nbest model is obtained by using columns:  [1, 58]\n## above model is the best fit model so far ## \n"
     ]
    },
    {
     "name": "stdout",
     "output_type": "stream",
     "text": [
      "7  row added) columns:  [1, 58, 7]  model_score:  0.670777663583  accuracy:  65.62\nbest model is obtained by using columns:  [1, 58, 7]\n## above model is the best fit model so far ## \n"
     ]
    },
    {
     "name": "stdout",
     "output_type": "stream",
     "text": [
      "9  row added) columns:  [1, 58, 9, 7]  model_score:  0.669380978733  accuracy:  68.32\nbest model is obtained by using columns:  [1, 58, 9, 7]\n"
     ]
    },
    {
     "name": "stdout",
     "output_type": "stream",
     "text": [
      "15  row added) columns:  [1, 7, 9, 15, 58]  model_score:  0.686220254566  accuracy:  66.02\n## above model is the best fit model so far ## \n"
     ]
    },
    {
     "name": "stdout",
     "output_type": "stream",
     "text": [
      "16  row added) columns:  [1, 7, 9, 16, 58]  model_score:  0.674335257069  accuracy:  64.06\n"
     ]
    },
    {
     "name": "stdout",
     "output_type": "stream",
     "text": [
      "19  row added) columns:  [1, 7, 9, 19, 58]  model_score:  0.672622341687  accuracy:  62.76\n"
     ]
    },
    {
     "name": "stdout",
     "output_type": "stream",
     "text": [
      "20  row added) columns:  [1, 7, 9, 20, 58]  model_score:  0.673333860384  accuracy:  67.22\n"
     ]
    },
    {
     "name": "stdout",
     "output_type": "stream",
     "text": [
      "21  row added) columns:  [1, 7, 9, 21, 58]  model_score:  0.679711176114  accuracy:  65.67\n"
     ]
    },
    {
     "name": "stdout",
     "output_type": "stream",
     "text": [
      "22  row added) columns:  [1, 7, 9, 22, 58]  model_score:  0.702558832055  accuracy:  65.02\n## above model is the best fit model so far ## \n"
     ]
    },
    {
     "name": "stdout",
     "output_type": "stream",
     "text": [
      "25  row added) columns:  [1, 7, 9, 25, 58]  model_score:  0.681424091496  accuracy:  67.42\n"
     ]
    },
    {
     "name": "stdout",
     "output_type": "stream",
     "text": [
      "26  row added) columns:  [1, 26, 7, 9, 58]  model_score:  0.678050965821  accuracy:  63.91\n"
     ]
    },
    {
     "name": "stdout",
     "output_type": "stream",
     "text": [
      "27  row added) columns:  [1, 7, 9, 58, 27]  model_score:  0.671410124648  accuracy:  65.72\n"
     ]
    },
    {
     "name": "stdout",
     "output_type": "stream",
     "text": [
      "28  row added) columns:  [1, 7, 9, 58, 28]  model_score:  0.724062508235  accuracy:  68.62\nbest model is obtained by using columns:  [1, 7, 9, 58, 28]\n## above model is the best fit model so far ## \n"
     ]
    },
    {
     "name": "stdout",
     "output_type": "stream",
     "text": [
      "34  row added) columns:  [1, 34, 7, 9, 58, 28]  model_score:  0.813107755554  accuracy:  66.42\n## above model is the best fit model so far ## \n"
     ]
    },
    {
     "name": "stdout",
     "output_type": "stream",
     "text": [
      "40  row added) columns:  [1, 7, 40, 9, 58, 28]  model_score:  0.75950668037  accuracy:  67.52\n"
     ]
    },
    {
     "name": "stdout",
     "output_type": "stream",
     "text": [
      "58  row added) columns:  [1, 7, 9, 58, 28]  model_score:  0.724826732021  accuracy:  67.72\n"
     ]
    },
    {
     "name": "stdout",
     "output_type": "stream",
     "text": [
      "65  row added) columns:  [1, 65, 7, 9, 58, 28]  model_score:  0.738371939811  accuracy:  68.17\n"
     ]
    },
    {
     "name": "stdout",
     "output_type": "stream",
     "text": [
      "68  row added) columns:  [1, 68, 7, 9, 58, 28]  model_score:  0.725037552376  accuracy:  69.87\nbest model is obtained by using columns:  [1, 68, 7, 9, 58, 28]\n"
     ]
    },
    {
     "name": "stdout",
     "output_type": "stream",
     "text": [
      "71  row added) columns:  [1, 68, 7, 71, 9, 58, 28]  model_score:  0.731889213904  accuracy:  66.82\n"
     ]
    },
    {
     "name": "stdout",
     "output_type": "stream",
     "text": [
      "81  row added) columns:  [1, 68, 7, 9, 81, 58, 28]  model_score:  0.744011384299  accuracy:  67.67\n"
     ]
    },
    {
     "name": "stdout",
     "output_type": "stream",
     "text": [
      "104  row added) columns:  [1, 68, 7, 104, 9, 58, 28]  model_score:  0.735341397212  accuracy:  66.32\n"
     ]
    },
    {
     "name": "stdout",
     "output_type": "stream",
     "text": [
      "116  row added) columns:  [1, 68, 7, 9, 116, 58, 28]  model_score:  0.72925395947  accuracy:  68.22\n####################################################\nbest model based on accuracy is  is obtained by using columns for test datasplit size: 0.05  is  [1, 68, 7, 9, 58, 28, 58, 71]\n\n\n\ntest data split size 0.1\n"
     ]
    },
    {
     "name": "stdout",
     "output_type": "stream",
     "text": [
      "1  row added) columns:  [1, 58]  model_score:  0.158414464534  accuracy:  15.34\nbest model is obtained by using columns:  [1, 58]\n## above model is the best fit model so far ## \n"
     ]
    },
    {
     "name": "stdout",
     "output_type": "stream",
     "text": [
      "7  row added) columns:  [1, 58, 7]  model_score:  0.672016689847  accuracy:  64.31\nbest model is obtained by using columns:  [1, 58, 7]\n## above model is the best fit model so far ## \n"
     ]
    },
    {
     "name": "stdout",
     "output_type": "stream",
     "text": [
      "9  row added) columns:  [1, 58, 9, 7]  model_score:  0.67140472879  accuracy:  65.01\nbest model is obtained by using columns:  [1, 58, 9, 7]\n"
     ]
    },
    {
     "name": "stdout",
     "output_type": "stream",
     "text": [
      "15  row added) columns:  [1, 7, 9, 15, 58]  model_score:  0.686675938804  accuracy:  65.86\nbest model is obtained by using columns:  [1, 7, 9, 15, 58]\n## above model is the best fit model so far ## \n"
     ]
    },
    {
     "name": "stdout",
     "output_type": "stream",
     "text": [
      "16  row added) columns:  [1, 7, 9, 15, 16, 58]  model_score:  0.689568845619  accuracy:  65.68\n## above model is the best fit model so far ## \n"
     ]
    },
    {
     "name": "stdout",
     "output_type": "stream",
     "text": [
      "19  row added) columns:  [1, 7, 9, 15, 19, 58]  model_score:  0.686314325452  accuracy:  66.66\nbest model is obtained by using columns:  [1, 7, 9, 15, 19, 58]\n"
     ]
    },
    {
     "name": "stdout",
     "output_type": "stream",
     "text": [
      "20  row added) columns:  [1, 7, 9, 15, 19, 20, 58]  model_score:  0.691349095967  accuracy:  65.53\n## above model is the best fit model so far ## \n"
     ]
    },
    {
     "name": "stdout",
     "output_type": "stream",
     "text": [
      "21  row added) columns:  [1, 7, 9, 15, 19, 21, 58]  model_score:  0.69769123783  accuracy:  64.91\n## above model is the best fit model so far ## \n"
     ]
    },
    {
     "name": "stdout",
     "output_type": "stream",
     "text": [
      "22  row added) columns:  [1, 7, 9, 15, 19, 22, 58]  model_score:  0.721001390821  accuracy:  65.51\n## above model is the best fit model so far ## \n"
     ]
    },
    {
     "name": "stdout",
     "output_type": "stream",
     "text": [
      "25  row added) columns:  [1, 7, 9, 15, 19, 25, 58]  model_score:  0.70033379694  accuracy:  65.03\n"
     ]
    },
    {
     "name": "stdout",
     "output_type": "stream",
     "text": [
      "26  row added) columns:  [1, 26, 7, 9, 15, 19, 58]  model_score:  0.694937413074  accuracy:  65.63\n"
     ]
    },
    {
     "name": "stdout",
     "output_type": "stream",
     "text": [
      "27  row added) columns:  [1, 7, 9, 15, 19, 58, 27]  model_score:  0.688011126565  accuracy:  66.03\n"
     ]
    },
    {
     "name": "stdout",
     "output_type": "stream",
     "text": [
      "28  row added) columns:  [1, 7, 9, 15, 19, 58, 28]  model_score:  0.743365785814  accuracy:  66.51\n## above model is the best fit model so far ## \n"
     ]
    },
    {
     "name": "stdout",
     "output_type": "stream",
     "text": [
      "34  row added) columns:  [1, 34, 7, 9, 15, 19, 58]  model_score:  0.772628650904  accuracy:  66.86\nbest model is obtained by using columns:  [1, 34, 7, 9, 15, 19, 58]\n## above model is the best fit model so far ## \n"
     ]
    },
    {
     "name": "stdout",
     "output_type": "stream",
     "text": [
      "40  row added) columns:  [1, 34, 7, 40, 9, 15, 19, 58]  model_score:  0.798247566064  accuracy:  66.76\n## above model is the best fit model so far ## \n"
     ]
    },
    {
     "name": "stdout",
     "output_type": "stream",
     "text": [
      "58  row added) columns:  [1, 34, 7, 9, 15, 19, 58]  model_score:  0.772350486787  accuracy:  67.06\nbest model is obtained by using columns:  [1, 34, 7, 9, 15, 19, 58]\n"
     ]
    },
    {
     "name": "stdout",
     "output_type": "stream",
     "text": [
      "65  row added) columns:  [1, 34, 65, 7, 9, 15, 19, 58]  model_score:  0.786369958275  accuracy:  66.98\n"
     ]
    },
    {
     "name": "stdout",
     "output_type": "stream",
     "text": [
      "68  row added) columns:  [1, 34, 68, 7, 9, 15, 19, 58]  model_score:  0.774297635605  accuracy:  65.86\n"
     ]
    },
    {
     "name": "stdout",
     "output_type": "stream",
     "text": [
      "71  row added) columns:  [1, 34, 7, 71, 9, 15, 19, 58]  model_score:  0.778497913769  accuracy:  66.68\n"
     ]
    },
    {
     "name": "stdout",
     "output_type": "stream",
     "text": [
      "81  row added) columns:  [1, 34, 7, 9, 15, 81, 19, 58]  model_score:  0.821891515994  accuracy:  66.38\n## above model is the best fit model so far ## \n"
     ]
    },
    {
     "name": "stdout",
     "output_type": "stream",
     "text": [
      "104  row added) columns:  [1, 34, 7, 104, 9, 15, 19, 58]  model_score:  0.795299026426  accuracy:  67.86\nbest model is obtained by using columns:  [1, 34, 7, 104, 9, 15, 19, 58]\n"
     ]
    },
    {
     "name": "stdout",
     "output_type": "stream",
     "text": [
      "116  row added) columns:  [1, 34, 7, 104, 9, 15, 19, 116, 58]  model_score:  0.797162726008  accuracy:  67.28\n####################################################\nbest model based on accuracy is  is obtained by using columns for test datasplit size: 0.1  is  [1, 34, 7, 104, 9, 15, 19, 58, 58, 116]\n\n\n\ntest data split size 0.15\n"
     ]
    },
    {
     "name": "stdout",
     "output_type": "stream",
     "text": [
      "1  row added) columns:  [1, 58]  model_score:  0.15662828027  accuracy:  16.52\nbest model is obtained by using columns:  [1, 58]\n## above model is the best fit model so far ## \n"
     ]
    },
    {
     "name": "stdout",
     "output_type": "stream",
     "text": [
      "7  row added) columns:  [1, 58, 7]  model_score:  0.67083910111  accuracy:  64.94\nbest model is obtained by using columns:  [1, 58, 7]\n## above model is the best fit model so far ## \n"
     ]
    },
    {
     "name": "stdout",
     "output_type": "stream",
     "text": [
      "9  row added) columns:  [1, 58, 9, 7]  model_score:  0.673048036992  accuracy:  64.24\n## above model is the best fit model so far ## \n"
     ]
    },
    {
     "name": "stdout",
     "output_type": "stream",
     "text": [
      "15  row added) columns:  [1, 58, 15, 7]  model_score:  0.687774276205  accuracy:  64.29\n## above model is the best fit model so far ## \n"
     ]
    },
    {
     "name": "stdout",
     "output_type": "stream",
     "text": [
      "16  row added) columns:  [16, 1, 58, 7]  model_score:  0.674903543133  accuracy:  64.34\n"
     ]
    },
    {
     "name": "stdout",
     "output_type": "stream",
     "text": [
      "19  row added) columns:  [1, 58, 19, 7]  model_score:  0.673048036992  accuracy:  64.84\n"
     ]
    },
    {
     "name": "stdout",
     "output_type": "stream",
     "text": [
      "20  row added) columns:  [1, 58, 20, 7]  model_score:  0.675021353047  accuracy:  64.67\n"
     ]
    },
    {
     "name": "stdout",
     "output_type": "stream",
     "text": [
      "21  row added) columns:  [1, 58, 21, 7]  model_score:  0.682678997438  accuracy:  64.02\n"
     ]
    },
    {
     "name": "stdout",
     "output_type": "stream",
     "text": [
      "22  row added) columns:  [1, 58, 22, 7]  model_score:  0.702883397638  accuracy:  66.67\nbest model is obtained by using columns:  [1, 58, 22, 7]\n## above model is the best fit model so far ## \n"
     ]
    },
    {
     "name": "stdout",
     "output_type": "stream",
     "text": [
      "25  row added) columns:  [1, 7, 22, 25, 58]  model_score:  0.714045886961  accuracy:  66.82\nbest model is obtained by using columns:  [1, 7, 22, 25, 58]\n## above model is the best fit model so far ## \n"
     ]
    },
    {
     "name": "stdout",
     "output_type": "stream",
     "text": [
      "26  row added) columns:  [1, 26, 7, 22, 25, 58]  model_score:  0.722439843313  accuracy:  65.97\n## above model is the best fit model so far ## \n"
     ]
    },
    {
     "name": "stdout",
     "output_type": "stream",
     "text": [
      "27  row added) columns:  [1, 7, 22, 25, 58, 27]  model_score:  0.711807498601  accuracy:  67.34\nbest model is obtained by using columns:  [1, 7, 22, 25, 58, 27]\n"
     ]
    },
    {
     "name": "stdout",
     "output_type": "stream",
     "text": [
      "28  row added) columns:  [1, 7, 22, 25, 58, 27, 28]  model_score:  0.766706918387  accuracy:  67.57\nbest model is obtained by using columns:  [1, 7, 22, 25, 58, 27, 28]\n## above model is the best fit model so far ## \n"
     ]
    },
    {
     "name": "stdout",
     "output_type": "stream",
     "text": [
      "34  row added) columns:  [1, 34, 7, 22, 25, 58, 27, 28]  model_score:  0.841899095809  accuracy:  67.12\n## above model is the best fit model so far ## \n"
     ]
    },
    {
     "name": "stdout",
     "output_type": "stream",
     "text": [
      "40  row added) columns:  [1, 7, 40, 22, 25, 58, 27, 28]  model_score:  0.797190233558  accuracy:  69.39\nbest model is obtained by using columns:  [1, 7, 40, 22, 25, 58, 27, 28]\n"
     ]
    },
    {
     "name": "stdout",
     "output_type": "stream",
     "text": [
      "58  row added) columns:  [1, 7, 40, 22, 25, 58, 27, 28]  model_score:  0.79827997526  accuracy:  68.47\n"
     ]
    },
    {
     "name": "stdout",
     "output_type": "stream",
     "text": [
      "65  row added) columns:  [1, 65, 7, 40, 22, 25, 58, 27, 28]  model_score:  0.80782257827  accuracy:  68.99\n"
     ]
    },
    {
     "name": "stdout",
     "output_type": "stream",
     "text": [
      "68  row added) columns:  [1, 68, 7, 40, 22, 25, 58, 27, 28]  model_score:  0.79772037817  accuracy:  69.39\nbest model is obtained by using columns:  [1, 68, 7, 40, 22, 25, 58, 27, 28]\n"
     ]
    },
    {
     "name": "stdout",
     "output_type": "stream",
     "text": [
      "71  row added) columns:  [1, 68, 7, 40, 71, 22, 25, 58, 27, 28]  model_score:  0.802697847024  accuracy:  69.59\nbest model is obtained by using columns:  [1, 68, 7, 40, 71, 22, 25, 58, 27, 28]\n"
     ]
    },
    {
     "name": "stdout",
     "output_type": "stream",
     "text": [
      "81  row added) columns:  [1, 68, 71, 40, 7, 81, 22, 25, 58, 27, 28]  model_score:  0.813565811563  accuracy:  69.36\n"
     ]
    },
    {
     "name": "stdout",
     "output_type": "stream",
     "text": [
      "104  row added) columns:  [1, 68, 7, 40, 71, 104, 22, 25, 58, 27, 28]  model_score:  0.809648631932  accuracy:  67.72\n"
     ]
    },
    {
     "name": "stdout",
     "output_type": "stream",
     "text": [
      "116  row added) columns:  [1, 68, 71, 40, 7, 116, 22, 25, 58, 27, 28]  model_score:  0.803286896592  accuracy:  69.74\nbest model is obtained by using columns:  [1, 68, 71, 40, 7, 116, 22, 25, 58, 27, 28]\n####################################################\nbest model based on accuracy is  is obtained by using columns for test datasplit size: 0.15  is  [1, 68, 71, 40, 7, 116, 22, 25, 58, 27, 28]\n\n\n\ntest data split size 0.2\n"
     ]
    },
    {
     "name": "stdout",
     "output_type": "stream",
     "text": [
      "1  row added) columns:  [1, 58]  model_score:  0.158123670046  accuracy:  15.71\nbest model is obtained by using columns:  [1, 58]\n## above model is the best fit model so far ## \n"
     ]
    },
    {
     "name": "stdout",
     "output_type": "stream",
     "text": [
      "7  row added) columns:  [1, 58, 7]  model_score:  0.67201777444  accuracy:  64.74\nbest model is obtained by using columns:  [1, 58, 7]\n## above model is the best fit model so far ## \n"
     ]
    },
    {
     "name": "stdout",
     "output_type": "stream",
     "text": [
      "9  row added) columns:  [1, 58, 9, 7]  model_score:  0.673926649143  accuracy:  64.2\n## above model is the best fit model so far ## \n"
     ]
    },
    {
     "name": "stdout",
     "output_type": "stream",
     "text": [
      "15  row added) columns:  [1, 58, 15, 7]  model_score:  0.687852046564  accuracy:  64.76\nbest model is obtained by using columns:  [1, 58, 15, 7]\n## above model is the best fit model so far ## \n"
     ]
    },
    {
     "name": "stdout",
     "output_type": "stream",
     "text": [
      "16  row added) columns:  [1, 7, 15, 16, 58]  model_score:  0.691450744774  accuracy:  64.54\n## above model is the best fit model so far ## \n"
     ]
    },
    {
     "name": "stdout",
     "output_type": "stream",
     "text": [
      "19  row added) columns:  [1, 7, 15, 19, 58]  model_score:  0.690073851546  accuracy:  64.69\n"
     ]
    },
    {
     "name": "stdout",
     "output_type": "stream",
     "text": [
      "20  row added) columns:  [1, 7, 15, 20, 58]  model_score:  0.693140568281  accuracy:  64.13\n## above model is the best fit model so far ## \n"
     ]
    },
    {
     "name": "stdout",
     "output_type": "stream",
     "text": [
      "21  row added) columns:  [1, 7, 15, 21, 58]  model_score:  0.698053573664  accuracy:  64.56\n## above model is the best fit model so far ## \n"
     ]
    },
    {
     "name": "stdout",
     "output_type": "stream",
     "text": [
      "22  row added) columns:  [1, 7, 15, 22, 58]  model_score:  0.720866191013  accuracy:  65.57\nbest model is obtained by using columns:  [1, 7, 15, 22, 58]\n## above model is the best fit model so far ## \n"
     ]
    },
    {
     "name": "stdout",
     "output_type": "stream",
     "text": [
      "25  row added) columns:  [1, 7, 15, 22, 25, 58]  model_score:  0.72915884341  accuracy:  67.08\nbest model is obtained by using columns:  [1, 7, 15, 22, 25, 58]\n## above model is the best fit model so far ## \n"
     ]
    },
    {
     "name": "stdout",
     "output_type": "stream",
     "text": [
      "26  row added) columns:  [1, 26, 7, 15, 22, 25, 58]  model_score:  0.735511328076  accuracy:  66.98\n## above model is the best fit model so far ## \n"
     ]
    },
    {
     "name": "stdout",
     "output_type": "stream",
     "text": [
      "27  row added) columns:  [1, 7, 15, 22, 25, 58, 27]  model_score:  0.729096257354  accuracy:  66.82\n"
     ]
    },
    {
     "name": "stdout",
     "output_type": "stream",
     "text": [
      "28  row added) columns:  [1, 7, 15, 22, 25, 58, 28]  model_score:  0.783702591063  accuracy:  68.04\nbest model is obtained by using columns:  [1, 7, 15, 22, 25, 58, 28]\n## above model is the best fit model so far ## \n"
     ]
    },
    {
     "name": "stdout",
     "output_type": "stream",
     "text": [
      "34  row added) columns:  [1, 34, 7, 15, 22, 25, 58, 28]  model_score:  0.857491550882  accuracy:  67.71\n## above model is the best fit model so far ## \n"
     ]
    },
    {
     "name": "stdout",
     "output_type": "stream",
     "text": [
      "40  row added) columns:  [1, 7, 40, 15, 22, 25, 58, 28]  model_score:  0.813305795469  accuracy:  68.41\nbest model is obtained by using columns:  [1, 7, 40, 15, 22, 25, 58, 28]\n"
     ]
    },
    {
     "name": "stdout",
     "output_type": "stream",
     "text": [
      "58  row added) columns:  [1, 7, 40, 15, 22, 25, 58, 28]  model_score:  0.813869069971  accuracy:  67.98\n"
     ]
    },
    {
     "name": "stdout",
     "output_type": "stream",
     "text": [
      "65  row added) columns:  [1, 65, 7, 40, 15, 22, 25, 58, 28]  model_score:  0.824759043685  accuracy:  68.37\n"
     ]
    },
    {
     "name": "stdout",
     "output_type": "stream",
     "text": [
      "68  row added) columns:  [1, 68, 7, 40, 15, 22, 25, 58, 28]  model_score:  0.813305795469  accuracy:  68.68\nbest model is obtained by using columns:  [1, 68, 7, 40, 15, 22, 25, 58, 28]\n"
     ]
    },
    {
     "name": "stdout",
     "output_type": "stream",
     "text": [
      "71  row added) columns:  [1, 68, 7, 40, 71, 15, 22, 25, 58, 28]  model_score:  0.818250093879  accuracy:  68.88\nbest model is obtained by using columns:  [1, 68, 7, 40, 71, 15, 22, 25, 58, 28]\n"
     ]
    },
    {
     "name": "stdout",
     "output_type": "stream",
     "text": [
      "81  row added) columns:  [1, 68, 71, 40, 7, 15, 81, 22, 25, 58, 28]  model_score:  0.830610839905  accuracy:  68.21\n"
     ]
    },
    {
     "name": "stdout",
     "output_type": "stream",
     "text": [
      "104  row added) columns:  [1, 68, 7, 40, 71, 104, 15, 22, 25, 58, 28]  model_score:  0.824946801853  accuracy:  68.33\n"
     ]
    },
    {
     "name": "stdout",
     "output_type": "stream",
     "text": [
      "116  row added) columns:  [1, 68, 71, 40, 7, 15, 116, 22, 25, 58, 28]  model_score:  0.822099136312  accuracy:  68.04\n####################################################\nbest model based on accuracy is  is obtained by using columns for test datasplit size: 0.2  is  [1, 68, 7, 40, 71, 15, 22, 25, 58, 28, 58, 81]\n"
     ]
    }
   ],
   "source": [
    "### step wise using various data_set sizes \n",
    "\n",
    "data_split_sizes =  np.array( list(range(5,25,5)))*0.01\n",
    "input =[1, 7, 9,15,16,19,20,21,22, 25, 26, 27, 28, 34, 40, 58,65,68,71, 81,104,116]\n",
    "print(\"\\n###############################################\\n\")\n",
    "for split_percent in data_split_sizes:\n",
    "    print('\\n\\n\\ntest data split size',  split_percent)\n",
    "    col_best = step_wise_elimination( data_set, input,split_percent)\n",
    "    print('####################################################')\n",
    "    print('best model based on accuracy is  is obtained by using columns for test datasplit size:',split_percent\n",
    "          ,' is ',col_best)"
   ]
  },
  {
   "cell_type": "markdown",
   "metadata": {},
   "source": [
    "### tried to come up with visualizations and confusion matrix but does not seem pratical\n"
   ]
  },
  {
   "cell_type": "code",
   "execution_count": null,
   "metadata": {},
   "outputs": [],
   "source": [
    ""
   ]
  }
 ],
 "metadata": {
  "kernelspec": {
   "display_name": "Python 2",
   "language": "python",
   "name": "python2"
  },
  "language_info": {
   "codemirror_mode": {
    "name": "ipython",
    "version": 2.0
   },
   "file_extension": ".py",
   "mimetype": "text/x-python",
   "name": "python",
   "nbconvert_exporter": "python",
   "pygments_lexer": "ipython2",
   "version": "2.7.6"
  }
 },
 "nbformat": 4,
 "nbformat_minor": 0
}